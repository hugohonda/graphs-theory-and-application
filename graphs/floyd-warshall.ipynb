{
 "cells": [
  {
   "cell_type": "markdown",
   "metadata": {},
   "source": [
    "# Floyd Warshall"
   ]
  },
  {
   "cell_type": "markdown",
   "metadata": {},
   "source": [
    "## Graph Class"
   ]
  },
  {
   "cell_type": "code",
   "execution_count": 129,
   "metadata": {
    "collapsed": false
   },
   "outputs": [],
   "source": [
    "class Graph(object):\n",
    "    def __init__(self):\n",
    "        self.vertices_count = 0\n",
    "        self.links_count = 0\n",
    "        self.links = []\n",
    "        self.matrix = []\n",
    "\n",
    "    # reads file data to grid\n",
    "    def read_grid(self, filename):\n",
    "        with open(filename) as file:\n",
    "            first_line =[int(item) for item in file.readline().split()]\n",
    "            self.vertices_count = first_line[0]\n",
    "            self.links_count = first_line[1]\n",
    "            self.links = [[int(item) for item in line.split()] for line in file.readlines()]\n",
    "            \n",
    "    # builds Graph, setting adjacence lists and weigths for each edge\n",
    "    def build_matrix(self):\n",
    "        infinite = float('inf')\n",
    "        self.matrix = [[(infinite if x != y else 0) for y in range(self.vertices_count)] for x in range(self.vertices_count)]\n",
    "\n",
    "    def fill_probs(self):\n",
    "        for item in self.links:\n",
    "            if item[0] != 0:\n",
    "                self.matrix[item[0] - 1][item[1] - 1] = item[2]\n",
    "                self.matrix[item[1] - 1][item[0] - 1] = item[2]"
   ]
  },
  {
   "cell_type": "markdown",
   "metadata": {},
   "source": [
    "## Import input"
   ]
  },
  {
   "cell_type": "code",
   "execution_count": 130,
   "metadata": {
    "collapsed": false
   },
   "outputs": [
    {
     "data": {
      "text/plain": [
       "[[5, 2, 100],\n",
       " [3, 5, 80],\n",
       " [2, 3, 70],\n",
       " [2, 1, 50],\n",
       " [3, 4, 90],\n",
       " [4, 1, 85],\n",
       " [3, 1, 70],\n",
       " [0]]"
      ]
     },
     "execution_count": 130,
     "metadata": {},
     "output_type": "execute_result"
    }
   ],
   "source": [
    "my_graph = Graph()\n",
    "my_graph.read_grid('./input/g3.in')\n",
    "my_graph.links"
   ]
  },
  {
   "cell_type": "markdown",
   "metadata": {},
   "source": [
    "## Build initial matrix"
   ]
  },
  {
   "cell_type": "code",
   "execution_count": 131,
   "metadata": {
    "collapsed": false
   },
   "outputs": [
    {
     "data": {
      "text/plain": [
       "[[0, inf, inf, inf, inf],\n",
       " [inf, 0, inf, inf, inf],\n",
       " [inf, inf, 0, inf, inf],\n",
       " [inf, inf, inf, 0, inf],\n",
       " [inf, inf, inf, inf, 0]]"
      ]
     },
     "execution_count": 131,
     "metadata": {},
     "output_type": "execute_result"
    }
   ],
   "source": [
    "my_graph.build_matrix()\n",
    "my_graph.matrix"
   ]
  },
  {
   "cell_type": "markdown",
   "metadata": {},
   "source": [
    "## Fill matrix with probabilities"
   ]
  },
  {
   "cell_type": "code",
   "execution_count": 132,
   "metadata": {
    "collapsed": false
   },
   "outputs": [
    {
     "data": {
      "text/plain": [
       "[[0, 50, 70, 85, inf],\n",
       " [50, 0, 70, inf, 100],\n",
       " [70, 70, 0, 90, 80],\n",
       " [85, inf, 90, 0, inf],\n",
       " [inf, 100, 80, inf, 0]]"
      ]
     },
     "execution_count": 132,
     "metadata": {},
     "output_type": "execute_result"
    }
   ],
   "source": [
    "my_graph.fill_probs()\n",
    "my_graph.matrix"
   ]
  },
  {
   "cell_type": "markdown",
   "metadata": {},
   "source": [
    "## Floyd Warshall"
   ]
  },
  {
   "cell_type": "code",
   "execution_count": 133,
   "metadata": {
    "collapsed": false
   },
   "outputs": [],
   "source": [
    "def floyd_warshall(graph):\n",
    "    mat = graph.matrix\n",
    "    for k in range(0, graph.vertices_count - 1):\n",
    "        for x in range(0, graph.vertices_count - 1):\n",
    "            for y in range(0, graph.vertices_count - 1):\n",
    "                graph.matrix[x][y] = min(graph.matrix[x][y], graph.matrix[x][k] + graph.matrix[k][y])\n",
    "    return graph.matrix\n",
    "    "
   ]
  },
  {
   "cell_type": "code",
   "execution_count": 134,
   "metadata": {
    "collapsed": false
   },
   "outputs": [
    {
     "data": {
      "text/plain": [
       "[[0, 50, 70, 85, inf],\n",
       " [50, 0, 70, 135, 100],\n",
       " [70, 70, 0, 90, 80],\n",
       " [85, 135, 90, 0, inf],\n",
       " [inf, 100, 80, inf, 0]]"
      ]
     },
     "execution_count": 134,
     "metadata": {},
     "output_type": "execute_result"
    }
   ],
   "source": [
    "floyd_warshall(my_graph)"
   ]
  },
  {
   "cell_type": "code",
   "execution_count": null,
   "metadata": {
    "collapsed": true
   },
   "outputs": [],
   "source": []
  }
 ],
 "metadata": {
  "anaconda-cloud": {},
  "kernelspec": {
   "display_name": "Python [conda root]",
   "language": "python",
   "name": "conda-root-py"
  },
  "language_info": {
   "codemirror_mode": {
    "name": "ipython",
    "version": 3
   },
   "file_extension": ".py",
   "mimetype": "text/x-python",
   "name": "python",
   "nbconvert_exporter": "python",
   "pygments_lexer": "ipython3",
   "version": "3.5.2"
  }
 },
 "nbformat": 4,
 "nbformat_minor": 2
}
