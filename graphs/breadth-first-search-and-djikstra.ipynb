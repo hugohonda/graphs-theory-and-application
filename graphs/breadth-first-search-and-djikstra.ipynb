{
 "cells": [
  {
   "cell_type": "markdown",
   "metadata": {},
   "source": [
    "# Breadth first search and Dijkstra's algorithm"
   ]
  },
  {
   "cell_type": "markdown",
   "metadata": {},
   "source": [
    "## Vertice Class\n",
    "- A Vertice is a node in a graph"
   ]
  },
  {
   "cell_type": "code",
   "execution_count": 1,
   "metadata": {
    "collapsed": false
   },
   "outputs": [],
   "source": [
    "class Vertice(object):\n",
    "    def __init__(self, node):\n",
    "        self.id = node\n",
    "        self.adjacents = {}\n",
    "        \n",
    "    def __str__(self):\n",
    "        return str(self.id + 1) + ' -> ' + str(self.adjacents)"
   ]
  },
  {
   "cell_type": "markdown",
   "metadata": {},
   "source": [
    "## Graph Class\n",
    "- A Graph is a set of vertice objects"
   ]
  },
  {
   "cell_type": "code",
   "execution_count": 2,
   "metadata": {
    "collapsed": true
   },
   "outputs": [],
   "source": [
    "class Graph(object):\n",
    "    def __init__(self):\n",
    "        self.vertices = []\n",
    "        self.grid_data = []\n",
    "        self.grid_dimension = 0\n",
    "\n",
    "    # reads file data to grid\n",
    "    def read_grid(self, filename):\n",
    "        with open(filename) as file:\n",
    "            next(file)\n",
    "            self.grid_data = [i.split() for i in file.readlines()]\n",
    "        self.grid_dimension = len(self.grid_data)\n",
    "\n",
    "    # builds Graph, setting adjacence lists and weigths for each edge\n",
    "    def build_graph(self):\n",
    "        for index in range(0, self.grid_dimension):\n",
    "            vertice = Vertice(index)\n",
    "            self.vertices.append(vertice)\n",
    "            \n",
    "        for y, line in enumerate(self.grid_data):\n",
    "            for x, value in enumerate(line):\n",
    "                weight = float(value)\n",
    "                if weight != 0:\n",
    "                    self.vertices[x].adjacents[y] = weight\n",
    "   \n",
    "    # Prints graph as a list of vertices and its adjacence lists\n",
    "    def print_adj_list(self):\n",
    "        for vertice in self.vertices:\n",
    "            print(vertice)\n"
   ]
  },
  {
   "cell_type": "markdown",
   "metadata": {},
   "source": [
    "## Import input grid\n",
    "Imports from raw .in file organized:\n",
    "\n",
    "first line -> square matrix dimension value\n",
    "\n",
    "other lines -> matrix with weight value lines separated by space"
   ]
  },
  {
   "cell_type": "code",
   "execution_count": 3,
   "metadata": {
    "collapsed": false
   },
   "outputs": [
    {
     "data": {
      "text/plain": [
       "[['0.0', '0.8', '0.0', '0.0', '0.0', '0.0'],\n",
       " ['0.8', '0.0', '0.1', '0.3', '0.0', '0.0'],\n",
       " ['0.0', '0.1', '0.0', '0.0', '0.7', '0.0'],\n",
       " ['0.0', '0.3', '0.0', '0.0', '0.0', '0.25'],\n",
       " ['0.0', '0.0', '0.7', '0.0', '0.0', '0.4'],\n",
       " ['0.0', '0.0', '0.0', '0.25', '0.4', '0.0']]"
      ]
     },
     "execution_count": 3,
     "metadata": {},
     "output_type": "execute_result"
    }
   ],
   "source": [
    "my_graph = Graph()\n",
    "my_graph.read_grid('./input/g1.in')\n",
    "my_graph.grid_data"
   ]
  },
  {
   "cell_type": "markdown",
   "metadata": {},
   "source": [
    "## Graph representation"
   ]
  },
  {
   "cell_type": "code",
   "execution_count": 4,
   "metadata": {
    "collapsed": false
   },
   "outputs": [
    {
     "data": {
      "image/png": "[encoded data removed]",
      "text/plain": [
       "<IPython.core.display.Image object>"
      ]
     },
     "execution_count": 4,
     "metadata": {},
     "output_type": "execute_result"
    }
   ],
   "source": [
    "from IPython.display import Image\n",
    "Image(filename='./assets/g1.png')"
   ]
  },
  {
   "cell_type": "markdown",
   "metadata": {},
   "source": [
    "## Build Graph\n",
    "With vertices and their adjacence lists"
   ]
  },
  {
   "cell_type": "code",
   "execution_count": 5,
   "metadata": {
    "collapsed": false
   },
   "outputs": [
    {
     "name": "stdout",
     "output_type": "stream",
     "text": [
      "1 -> {1: 0.8}\n",
      "2 -> {0: 0.8, 2: 0.1, 3: 0.3}\n",
      "3 -> {1: 0.1, 4: 0.7}\n",
      "4 -> {1: 0.3, 5: 0.25}\n",
      "5 -> {2: 0.7, 5: 0.4}\n",
      "6 -> {3: 0.25, 4: 0.4}\n"
     ]
    }
   ],
   "source": [
    "my_graph.build_graph()\n",
    "my_graph.print_adj_list()"
   ]
  },
  {
   "cell_type": "markdown",
   "metadata": {},
   "source": [
    "## Breadth First Search"
   ]
  },
  {
   "cell_type": "code",
   "execution_count": 6,
   "metadata": {
    "collapsed": false
   },
   "outputs": [
    {
     "name": "stdout",
     "output_type": "stream",
     "text": [
      "q: [0] / v: []\n",
      "visits: 0\n",
      "q: [1] / v: [0]\n",
      "visits: 1\n",
      "q: [0, 2, 3] / v: [0, 1]\n",
      "visits: 2\n",
      "q: [3, 1, 4] / v: [0, 1, 2]\n",
      "visits: 3\n",
      "q: [1, 4, 1, 5] / v: [0, 1, 2, 3]\n",
      "visits: 4\n",
      "q: [1, 5, 2, 5] / v: [0, 1, 2, 3, 4]\n",
      "visits: 5\n",
      "q: [2, 5, 3, 4] / v: [0, 1, 2, 3, 4, 5]\n",
      "[] [0, 1, 2, 3, 4, 5]\n"
     ]
    },
    {
     "data": {
      "text/plain": [
       "[0, 1, 2, 3, 4, 5]"
      ]
     },
     "execution_count": 6,
     "metadata": {},
     "output_type": "execute_result"
    }
   ],
   "source": [
    "def breadth_first_search(graph, start):\n",
    "    visited = []\n",
    "    queue = []\n",
    "    queue.append(start)\n",
    "    print('q:', queue, '/ v:', visited)\n",
    "    while len(queue) > 0:\n",
    "        vertice = queue.pop(0)\n",
    "        if vertice not in visited:\n",
    "            print('visits:', vertice)\n",
    "            visited.append(vertice)\n",
    "            queue.extend(graph.vertices[vertice].adjacents.keys())\n",
    "            print('q:', queue, '/ v:', visited)\n",
    "    print(queue, visited)\n",
    "    return visited\n",
    "\n",
    "path = breadth_first_search(my_graph, 0)\n",
    "path"
   ]
  },
  {
   "cell_type": "markdown",
   "metadata": {},
   "source": [
    "Two lists were printed, the queue q (adjacents to current node and previous node in queue) and the already visited nodes v.\n",
    "The path chossen by breadth-first-search algorithm was [0, 1, 2, 3, 4, 5]"
   ]
  },
  {
   "cell_type": "markdown",
   "metadata": {},
   "source": [
    "## Dijkstra's algorithm"
   ]
  },
  {
   "cell_type": "code",
   "execution_count": 7,
   "metadata": {
    "collapsed": false
   },
   "outputs": [
    {
     "name": "stdout",
     "output_type": "stream",
     "text": [
      "1 0.8\n",
      "2 0.9\n",
      "1 1.0\n"
     ]
    }
   ],
   "source": [
    "def dijkstra(graph, start):\n",
    "    visited = []\n",
    "    queue = []\n",
    "    dist = []\n",
    "    \n",
    "    adjacents = graph.vertices[start].adjacents\n",
    "    minimal = min(adjacents, key=adjacents.get)\n",
    "    value = adjacents[minimal]\n",
    "    print(minimal, value)\n",
    "    \n",
    "    adjacents = graph.vertices[minimal].adjacents\n",
    "    minimal = min(adjacents, key=adjacents.get)\n",
    "    value = value + adjacents[minimal]\n",
    "    print(minimal, value)\n",
    "    \n",
    "    adjacents = graph.vertices[minimal].adjacents\n",
    "    minimal = min(adjacents, key=adjacents.get)\n",
    "    value = value + adjacents[minimal]\n",
    "    print(minimal, value)\n",
    "    \n",
    "#     queue.append(start)\n",
    "#     adjacents = graph.vertices[start].adjacents\n",
    "#     minimal = min(adjacents, key=adjacents.get)\n",
    "#     queue.extend(adjacents)\n",
    "#     print(minimal)\n",
    "#     print('q:', queue, '/ v:', visited)\n",
    "    \n",
    "#     while len(queue) > 0:\n",
    "        \n",
    "#         vertice = minimal\n",
    "#         if vertice not in visited:\n",
    "#             print('visits:', vertice)\n",
    "#             visited.append(vertice)\n",
    "#             queue.extend(graph.vertices[vertice].adjacents.keys())\n",
    "#             print('q:', queue, '/ v:', visited)\n",
    "#     print(queue, visited)\n",
    "#     return visited\n",
    "dijkstra(my_graph, 0)\n",
    "# path2 = dijkstra(my_graph, 0)\n",
    "# path2"
   ]
  },
  {
   "cell_type": "code",
   "execution_count": null,
   "metadata": {
    "collapsed": true
   },
   "outputs": [],
   "source": []
  }
 ],
 "metadata": {
  "anaconda-cloud": {},
  "kernelspec": {
   "display_name": "Python [conda root]",
   "language": "python",
   "name": "conda-root-py"
  },
  "language_info": {
   "codemirror_mode": {
    "name": "ipython",
    "version": 3
   },
   "file_extension": ".py",
   "mimetype": "text/x-python",
   "name": "python",
   "nbconvert_exporter": "python",
   "pygments_lexer": "ipython3",
   "version": "3.5.2"
  }
 },
 "nbformat": 4,
 "nbformat_minor": 2
}
